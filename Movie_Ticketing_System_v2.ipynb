{
  "nbformat": 4,
  "nbformat_minor": 0,
  "metadata": {
    "colab": {
      "name": "Movie Ticketing System v2.ipynb",
      "provenance": [],
      "collapsed_sections": [],
      "authorship_tag": "ABX9TyMgkEl0STVl3FNu1wWF7A9w",
      "include_colab_link": true
    },
    "kernelspec": {
      "name": "python3",
      "display_name": "Python 3"
    },
    "language_info": {
      "name": "python"
    }
  },
  "cells": [
    {
      "cell_type": "markdown",
      "metadata": {
        "id": "view-in-github",
        "colab_type": "text"
      },
      "source": [
        "<a href=\"https://colab.research.google.com/github/itssud/MovieTicketing-Backend/blob/main/Movie_Ticketing_System_v2.ipynb\" target=\"_parent\"><img src=\"https://colab.research.google.com/assets/colab-badge.svg\" alt=\"Open In Colab\"/></a>"
      ]
    },
    {
      "cell_type": "code",
      "source": [
        "import random\n",
        "import datetime"
      ],
      "metadata": {
        "id": "Ulwe8n7OMrN5"
      },
      "execution_count": null,
      "outputs": []
    },
    {
      "cell_type": "code",
      "execution_count": null,
      "metadata": {
        "colab": {
          "base_uri": "https://localhost:8080/"
        },
        "id": "rNwIpvxSMnw3",
        "outputId": "7730fa2c-2dab-4b00-f7ce-dbef3a895e8f"
      },
      "outputs": [
        {
          "output_type": "stream",
          "name": "stdout",
          "text": [
            "Available Screens are : ['AUDI1', 'AUDI2']\n"
          ]
        }
      ],
      "source": [
        "# Enter number of screens\n",
        "#no_of_screens = int(input('Enter the Number of Screens in the Theatre : '))\n",
        "no_of_screens = 2\n",
        "\n",
        "screens = ['AUDI' + str(screen+1) for screen in range(no_of_screens) ]\n",
        "\n",
        "print(f'Available Screens are : {screens}')\n",
        "\n",
        "movies = ['Spiderman', 'Dark Knight', 'Iron Man', 'Captain America', 'Minal Murali']\n",
        "\n",
        "show_timings = {'early morning' : '8:00 AM', 'morning' : '11:00 AM', 'matniee' : '1:40 PM', 'afternoon' : '4:25 PM', 'evening': '7:10 PM', 'night': '10:30 PM'}\n",
        "\n",
        "no_of_seats = {screens[id] : random.randrange(50, 220) for id in range(no_of_screens)}\n",
        "\n",
        "row_letters = 'ABCDEFGHIJKLMNOPQRSTUVWXYZ'\n",
        "\n",
        "seat_categories_price = {'Elite' : 64, 'Economy' : 120, 'Premium' : 170, 'Super Premium' : 195}"
      ]
    },
    {
      "cell_type": "code",
      "source": [
        "def getRowsAndCols(screen):\n",
        "  while True:\n",
        "      col = random.randrange(5,25)\n",
        "      row = no_of_seats[screen] // col\n",
        "      remaining = no_of_seats[screen] % col\n",
        "  \n",
        "      if row > 8 and row < len(row_letters)-7 and remaining < col:\n",
        "        return (row,col, remaining)\n",
        "\n",
        "getRowsAndCols('AUDI1')"
      ],
      "metadata": {
        "colab": {
          "base_uri": "https://localhost:8080/"
        },
        "id": "Xp1s65W_4P5W",
        "outputId": "27296eb3-f392-42e3-f8de-9b70c31b39f5"
      },
      "execution_count": null,
      "outputs": [
        {
          "output_type": "execute_result",
          "data": {
            "text/plain": [
              "(11, 13, 9)"
            ]
          },
          "metadata": {},
          "execution_count": 37
        }
      ]
    },
    {
      "cell_type": "code",
      "source": [
        "def setShows(screen):\n",
        "  shows = {}\n",
        "  get_row_col_data = getRowsAndCols(screen)\n",
        "  row = get_row_col_data[0]\n",
        "  col = get_row_col_data[1]\n",
        "  remaining = get_row_col_data[2]\n",
        "\n",
        "  for show in list(show_timings.keys()):\n",
        "\n",
        "    rows = { row_letters[idx] : [ num+1 for num in range(col) ] for idx in range(row) }\n",
        "    if remaining:\n",
        "        rows[row_letters[len(rows)]] = [n+1 for n in range(remaining)]\n",
        "    \n",
        "    shows[show] = rows\n",
        "  \n",
        "  return shows\n"
      ],
      "metadata": {
        "id": "G4llJae7NZyl"
      },
      "execution_count": null,
      "outputs": []
    },
    {
      "cell_type": "code",
      "source": [
        "shows = {}\n",
        "running_movies = {}\n",
        "\n",
        "for screen in screens:\n",
        "  shows[screen] = setShows(screen)\n",
        "  running_movies[screen] = { showtime : random.choice(movies) for showtime in show_timings }"
      ],
      "metadata": {
        "id": "o2m32HWC6x1X"
      },
      "execution_count": null,
      "outputs": []
    },
    {
      "cell_type": "code",
      "source": [
        "def GetRowCategories(screen):\n",
        "\n",
        "    seats_of_audi = shows[screen]['early morning']\n",
        "    \n",
        "    seat_categories = {}\n",
        "    \n",
        "    count = 0\n",
        "    super_premium = []\n",
        "    premium = []\n",
        "    elite = []\n",
        "    economy = []\n",
        "\n",
        "    for key in seats_of_audi.keys():\n",
        "        \n",
        "        if count == 0:\n",
        "            super_premium.append(key)\n",
        "        elif count > 0 and count < 3:\n",
        "            premium.append(key)\n",
        "        elif count > len(seats_of_audi)-3 and count <= len(seats_of_audi):\n",
        "            elite.append(key)\n",
        "        else:\n",
        "            economy.append(key)\n",
        "            \n",
        "        seat_categories['Super Premium'] = super_premium\n",
        "        seat_categories['Premium'] = premium\n",
        "        seat_categories['Economy'] = economy\n",
        "        seat_categories['Elite'] = elite\n",
        "        count+=1\n",
        "    \n",
        "    return seat_categories"
      ],
      "metadata": {
        "id": "s3vyytuMPtbF"
      },
      "execution_count": null,
      "outputs": []
    },
    {
      "cell_type": "code",
      "source": [
        "seat_categories = {}\n",
        "for screen in screens:\n",
        "  seat_categories[screen] = GetRowCategories(screen)"
      ],
      "metadata": {
        "id": "Qm_ZrLIyWLiT"
      },
      "execution_count": null,
      "outputs": []
    },
    {
      "cell_type": "code",
      "source": [
        "def getMovieTimings(movie):\n",
        "  if movie in movies:\n",
        "    showlist = {}\n",
        "    for screen in screens:\n",
        "      showtimes = []\n",
        "      for showtime, running_movie in running_movies[screen].items():\n",
        "        if running_movie == movie:\n",
        "          showtimes.append(showtime)\n",
        "      showlist[screen] = showtimes\n",
        "    return showlist\n",
        "  else: return None"
      ],
      "metadata": {
        "id": "MzKkgJY7cTOU"
      },
      "execution_count": null,
      "outputs": []
    },
    {
      "cell_type": "code",
      "source": [
        "def getTotalandRowAvailableSeats(screen, showtime, category):\n",
        "  rows = seat_categories[screen][category]\n",
        "  row_available_seats = {}\n",
        "  total_available = 0\n",
        "  for row in rows:\n",
        "    available_seat_count = 0\n",
        "    col = shows[screen][showtime][row]\n",
        "    for seat in col:\n",
        "      if isinstance(seat, int):\n",
        "        available_seat_count += 1\n",
        "        total_available += 1\n",
        "    row_available_seats[row] = available_seat_count\n",
        "\n",
        "  return (total_available, row_available_seats)"
      ],
      "metadata": {
        "id": "G-BL-rlVvKSm"
      },
      "execution_count": null,
      "outputs": []
    },
    {
      "cell_type": "code",
      "source": [
        "bookingData = []\n",
        "\n",
        "def bookTicket():\n",
        "  print('Welcome to the Cinemas!!!')\n",
        "  name = input('Enter your Name to proceed... ')\n",
        "\n",
        "  print(f'Hi {name}, Select the desired movie to watch from the following...')\n",
        "  for movie_idx in range(len(movies)):\n",
        "    print(f'[ {movie_idx} ]   {movies[movie_idx]}')\n",
        "  movie_selector = int(input('Enter the number assosiated with the movie you wanna watch... '))\n",
        "  while movie_selector > len(movies)-1 or movie_selector < 0:  \n",
        "    movie_selector = int(input('[Not Found] Please enter a valid number... '))\n",
        "  movie = movies[movie_selector]\n",
        "  print(f'\\nHey {name}, you have selected {movie} to watch, Please select the preferred showtime to watch from the following...')\n",
        "  movie_timings = getMovieTimings(movie)\n",
        "\n",
        "  screen_time_pair = []\n",
        "  for screen, showtimes in movie_timings.items():\n",
        "    for showtime in showtimes:\n",
        "      screen_time_pair.append([screen, showtime])\n",
        "\n",
        "  for pair_idx in range(len(screen_time_pair)):\n",
        "    pair = screen_time_pair[pair_idx]\n",
        "    print(f'[ {pair_idx} ]    Screen : {pair[0]} - ShowTime : {pair[1]}  ( { pair[1] } )')\n",
        "\n",
        "  pair_selector = int(input('Enter the number assosiated with the showtiming you prefer... '))\n",
        "  while pair_selector > len(screen_time_pair)-1 or pair_selector < 0:   pair_selector = int(input('[Not Found] Please enter a valid number... '))\n",
        "\n",
        "  pair_screen = screen_time_pair[pair_selector][0]\n",
        "  pair_showtime = screen_time_pair[pair_selector][1]\n",
        "  print(f'\\nAwesome {name}, you have selected the Movie {movie} on {pair_screen} screen at {pair_showtime} ( {show_timings[pair_showtime]} ) ')\n",
        "  print('Further select the category of seats you prefer from the below list : ')\n",
        "\n",
        "  categories = list(seat_categories_price.keys())\n",
        "\n",
        "  available_rows = {}\n",
        "  for category_idx in range(len(categories)):\n",
        "    get_row_seats_available = getTotalandRowAvailableSeats(pair_screen, pair_showtime, categories[category_idx])\n",
        "    row_seats_available = get_row_seats_available[0]\n",
        "    available_rows[category_idx] = get_row_seats_available[1]\n",
        "    print(f'[ {category_idx} ]    {categories[category_idx]} - Price : {seat_categories_price[ categories[category_idx] ]} INR / ticket  -   Available : {row_seats_available} Seats')\n",
        "\n",
        "  category_selector = int(input('Enter the number assosiated with the category of seat you want... '))\n",
        "  while category_selector > len(categories)-1 or category_selector < 0:   category_selector = int(input('[Not Found] Please enter a valid number... '))\n",
        "  \n",
        "  print(f'\\n{name}, you have selected {categories[category_selector]} seat category.')\n",
        "  qty = int(input('Enter the quantity of tickets you want... '))\n",
        "\n",
        "  seat_qty_available = getTotalandRowAvailableSeats(pair_screen, pair_showtime, categories[category_selector])[0]\n",
        "  while qty > seat_qty_available or qty > 10:  \n",
        "    if qty > 10:   qty = int(input('Sorry, user cannot book more than 10 tickets at a instance, Please enter a lower quantity... '))\n",
        "    else:   qty = int(input('Sorry, we dont have enough seats in this category, Please enter a lower quantity... '))\n",
        "  \n",
        "  count = 0\n",
        "  tickets = []\n",
        "  for rows in available_rows[category_selector]:\n",
        "    row = shows[pair_screen][pair_showtime][rows]\n",
        "    for i in range(len(row)):\n",
        "      if isinstance(row[i], int):\n",
        "        if count <= qty-1:\n",
        "          tickets.append( str(rows) + str(row[i]) )\n",
        "          shows[pair_screen][pair_showtime][rows][i] = name\n",
        "          count += 1\n",
        "\n",
        "  \n",
        "  print(f'[ Booking Date & Time : {datetime.datetime.now().strftime(\"%d/%m/%Y %H:%M:%S\")} ]\\n{name}, you are booking {qty} tickets for {movie} on {pair_screen} at {pair_showtime} on {show_timings[pair_showtime]}, \\nSelected tickets are... { \", \".join(tickets)}')\n",
        "  price_per_ticket = seat_categories_price[categories[category_selector]]\n",
        "  price = price_per_ticket * qty\n",
        "  gst = round(price * 0.18, 1)\n",
        "  payment_check = input(f'''Booking {qty} tickets will cost...\n",
        "  Base Amount ( INR { price_per_ticket } X {qty} Nos )    =     INR {price}\n",
        "  Integrated GST (IGST) @ 18%                             =     INR {gst}\n",
        "  Total Amount Payable                                    =     INR {price + gst}\n",
        "  Proceed for payment ( Y / N )... ''')\n",
        "\n",
        "  dateandtime = datetime.datetime.now().strftime(\"%d/%m/%Y %H:%M:%S\")\n",
        "  if payment_check.lower() == 'y' or payment_check.lower() == 'yes':\n",
        "      print(f'[ Payment Confirmed ][ Payment Date & Time : {dateandtime} ]\\n{name}, you have booked {qty} tickets for {movie} on {pair_screen} at {pair_showtime} on {show_timings[pair_showtime]}, \\Booked tickets are... { \", \".join(tickets)}')\n",
        "      bookingData.append((name, movie, pair_screen, pair_showtime, tickets, price + gst ,dateandtime, 'Booking'))\n",
        "  else: print('[ Payment Cancelled ] Please try again....')\n"
      ],
      "metadata": {
        "id": "JIMtWVGNggsj"
      },
      "execution_count": null,
      "outputs": []
    },
    {
      "cell_type": "code",
      "source": [
        "bookTicket()"
      ],
      "metadata": {
        "colab": {
          "base_uri": "https://localhost:8080/"
        },
        "id": "TX0nLwh-ZeIT",
        "outputId": "f05e6da3-0a6a-4d89-9643-f26f5330eceb"
      },
      "execution_count": null,
      "outputs": [
        {
          "output_type": "stream",
          "name": "stdout",
          "text": [
            "Welcome to the Cinemas!!!\n",
            "Enter your Name to proceed... sri\n",
            "Hi sri, Select the desired movie to watch from the following...\n",
            "[ 0 ]   Spiderman\n",
            "[ 1 ]   Dark Knight\n",
            "[ 2 ]   Iron Man\n",
            "[ 3 ]   Captain America\n",
            "[ 4 ]   Minal Murali\n",
            "Enter the number assosiated with the movie you wanna watch... 4\n",
            "\n",
            "Hey sri, you have selected Minal Murali to watch, Please select the preferred showtime to watch from the following...\n",
            "[ 0 ]    Screen : AUDI1 - ShowTime : matniee  ( matniee )\n",
            "[ 1 ]    Screen : AUDI1 - ShowTime : afternoon  ( afternoon )\n",
            "[ 2 ]    Screen : AUDI2 - ShowTime : afternoon  ( afternoon )\n",
            "[ 3 ]    Screen : AUDI2 - ShowTime : night  ( night )\n",
            "Enter the number assosiated with the showtiming you prefer... 2\n",
            "\n",
            "Awesome sri, you have selected the Movie Minal Murali on AUDI2 screen at afternoon ( 4:25 PM ) \n",
            "Further select the category of seats you prefer from the below list : \n",
            "[ 0 ]    Elite - Price : 64 INR / ticket  -   Available : 12 Seats\n",
            "[ 1 ]    Economy - Price : 120 INR / ticket  -   Available : 154 Seats\n",
            "[ 2 ]    Premium - Price : 170 INR / ticket  -   Available : 22 Seats\n",
            "[ 3 ]    Super Premium - Price : 195 INR / ticket  -   Available : 11 Seats\n",
            "Enter the number assosiated with the category of seat you want... 1\n",
            "\n",
            "sri, you have selected Economy seat category.\n",
            "Enter the quantity of tickets you want... 5\n",
            "[ Booking Date & Time : 31/01/2022 04:51:56 ]\n",
            "sri, you are booking 5 tickets for Minal Murali on AUDI2 at afternoon on 4:25 PM, \n",
            "Selected tickets are... D1, D2, D3, D4, D5\n",
            "Booking 5 tickets will cost...\n",
            "  Base Amount ( INR 120 X 5 Nos )    =     INR 600\n",
            "  Integrated GST (IGST) @ 18%                             =     INR 108.0\n",
            "  Total Amount Payable                                    =     INR 708.0\n",
            "  Proceed for payment ( Y / N )... y\n",
            "[ Payment Confirmed ][ Payment Date & Time : 31/01/2022 04:52:17 ]\n",
            "sri, you have booked 5 tickets for Minal Murali on AUDI2 at afternoon on 4:25 PM, \\Booked tickets are... D1, D2, D3, D4, D5\n"
          ]
        }
      ]
    },
    {
      "cell_type": "code",
      "source": [
        "bookTicket()"
      ],
      "metadata": {
        "colab": {
          "base_uri": "https://localhost:8080/"
        },
        "id": "1Qj5c4noeka0",
        "outputId": "d8405678-de47-4c12-a4b9-b0f9d01a00ba"
      },
      "execution_count": null,
      "outputs": [
        {
          "output_type": "stream",
          "name": "stdout",
          "text": [
            "Welcome to the Cinemas!!!\n",
            "Enter your Name to proceed... sri\n",
            "Hi sri, Select the desired movie to watch from the following...\n",
            "[ 0 ]   Spiderman\n",
            "[ 1 ]   Dark Knight\n",
            "[ 2 ]   Iron Man\n",
            "[ 3 ]   Captain America\n",
            "[ 4 ]   Minal Murali\n",
            "Enter the number assosiated with the movie you wanna watch... 4\n",
            "\n",
            "Hey sri, you have selected Minal Murali to watch, Please select the preferred showtime to watch from the following...\n",
            "[ 0 ]    Screen : AUDI1 - ShowTime : matniee  ( matniee )\n",
            "[ 1 ]    Screen : AUDI1 - ShowTime : afternoon  ( afternoon )\n",
            "[ 2 ]    Screen : AUDI2 - ShowTime : afternoon  ( afternoon )\n",
            "[ 3 ]    Screen : AUDI2 - ShowTime : night  ( night )\n",
            "Enter the number assosiated with the showtiming you prefer... 2\n",
            "\n",
            "Awesome sri, you have selected the Movie Minal Murali on AUDI2 screen at afternoon ( 4:25 PM ) \n",
            "Further select the category of seats you prefer from the below list : \n",
            "[ 0 ]    Elite - Price : 64 INR / ticket  -   Available : 12 Seats\n",
            "[ 1 ]    Economy - Price : 120 INR / ticket  -   Available : 149 Seats\n",
            "[ 2 ]    Premium - Price : 170 INR / ticket  -   Available : 22 Seats\n",
            "[ 3 ]    Super Premium - Price : 195 INR / ticket  -   Available : 11 Seats\n",
            "Enter the number assosiated with the category of seat you want... 3\n",
            "\n",
            "sri, you have selected Super Premium seat category.\n",
            "Enter the quantity of tickets you want... 12\n",
            "Sorry, user cannot book more than 10 tickets at a instance, Please enter a lower quantity... 09\n",
            "[ Booking Date & Time : 31/01/2022 04:53:54 ]\n",
            "sri, you are booking 9 tickets for Minal Murali on AUDI2 at afternoon on 4:25 PM, \n",
            "Selected tickets are... A1, A2, A3, A4, A5, A6, A7, A8, A9\n",
            "Booking 9 tickets will cost...\n",
            "  Base Amount ( INR 195 X 9 Nos )    =     INR 1755\n",
            "  Integrated GST (IGST) @ 18%                             =     INR 315.9\n",
            "  Total Amount Payable                                    =     INR 2070.9\n",
            "  Proceed for payment ( Y / N )... y\n",
            "[ Payment Confirmed ][ Payment Date & Time : 31/01/2022 04:54:02 ]\n",
            "sri, you have booked 9 tickets for Minal Murali on AUDI2 at afternoon on 4:25 PM, \\Booked tickets are... A1, A2, A3, A4, A5, A6, A7, A8, A9\n"
          ]
        }
      ]
    },
    {
      "cell_type": "code",
      "source": [
        "def cancelTicket(name):\n",
        "  user_data_index = []\n",
        "  for idx in range(len(bookingData)):\n",
        "    data = bookingData[idx]\n",
        "    if data[0] == name and data[7] == 'Booking':\n",
        "      print(f'[ {idx} ] {data[6]} : {data[1]} -> { data[2] } @ {data[3]} | {data[4]} | INR {data[5]} | Booked By : {data[0]}')\n",
        "      user_data_index.append(idx)\n",
        "  user_data_selector = int(input('Select the appropriate ticket which is to be cancelled... '))\n",
        "  while user_data_selector not in user_data_index:  user_data_selector = int(input('[ Invalid Selection ] Try again with the appropriate ticket which is to be cancelled... '))\n",
        "\n",
        "  datapoint = bookingData[user_data_selector]\n",
        "  cancel_ticket = input(f'''You have selected {datapoint[6]} : {datapoint[1]} -> { datapoint[2] } @ {datapoint[3]} ( {show_timings[datapoint[3]]} ) | INR {datapoint[5]} | Booked By : {datapoint[0]}\n",
        "  {datapoint[4]}\n",
        "  Type the ticket number / numbers which are to be cancelled... ''')\n",
        "\n",
        "  datapoint_per_price = len(datapoint[4]) / datapoint[5]\n",
        "  available_for_cancellation = []\n",
        "  not_found = []\n",
        "  tickets = [ tkt.strip() for tkt in cancel_ticket.split(',') ]\n",
        "  for idx in range(len(tickets)):\n",
        "    if tickets[idx] in datapoint[4]:\n",
        "      available_for_cancellation.append(tickets[idx])\n",
        "    else:\n",
        "      not_found.append(tickets[idx])\n",
        "\n",
        "  ticket_checker = input(f'''{', '.join(available_for_cancellation)} are considered for cancellation, excluding invalid entries... Do you want to continue cancelling { ', '.join(available_for_cancellation) }?? ( Y / N )... ''')\n",
        "  if ticket_checker.lower() == 'y' or ticket_checker.lower() == 'yes':\n",
        "    for tkt_num in available_for_cancellation:\n",
        "      shows[datapoint[2]][datapoint[3]][tkt_num[:1]][int(tkt_num[1:]) - 1] = int(tkt_num[1:])\n",
        "      bookingData[user_data_selector][4].remove(tkt_num)\n",
        "    \n",
        "  bookingData.append( (datapoint[0], datapoint[1], datapoint[2], datapoint[3], available_for_cancellation, len(available_for_cancellation) * datapoint_per_price, datetime.datetime.now().strftime(\"%d/%m/%Y %H:%M:%S\"), 'Cancellation') )\n"
      ],
      "metadata": {
        "id": "3dWycJc9HCcF"
      },
      "execution_count": null,
      "outputs": []
    },
    {
      "cell_type": "code",
      "source": [
        "bookingData"
      ],
      "metadata": {
        "id": "b-888PP_07Xq",
        "colab": {
          "base_uri": "https://localhost:8080/"
        },
        "outputId": "5acb5f3f-936c-4dc7-cf0e-1acefb639589"
      },
      "execution_count": null,
      "outputs": [
        {
          "output_type": "execute_result",
          "data": {
            "text/plain": [
              "[('sri',\n",
              "  'Minal Murali',\n",
              "  'AUDI2',\n",
              "  'afternoon',\n",
              "  ['D1', 'D2', 'D3', 'D4', 'D5'],\n",
              "  708.0,\n",
              "  '31/01/2022 04:52:17',\n",
              "  'Booking'),\n",
              " ('sri',\n",
              "  'Minal Murali',\n",
              "  'AUDI2',\n",
              "  'afternoon',\n",
              "  ['A1', 'A2', 'A3', 'A4', 'A5', 'A6', 'A7', 'A8', 'A9'],\n",
              "  2070.9,\n",
              "  '31/01/2022 04:54:02',\n",
              "  'Booking')]"
            ]
          },
          "metadata": {},
          "execution_count": 53
        }
      ]
    },
    {
      "cell_type": "code",
      "source": [
        "cancelTicket('sri')"
      ],
      "metadata": {
        "colab": {
          "base_uri": "https://localhost:8080/"
        },
        "id": "hfn3Tf7DXaTx",
        "outputId": "1f9ea4a5-c357-4775-f285-a69393dd7009"
      },
      "execution_count": null,
      "outputs": [
        {
          "name": "stdout",
          "output_type": "stream",
          "text": [
            "[ 0 ] 31/01/2022 04:52:17 : Minal Murali -> AUDI2 @ afternoon | ['D1', 'D2', 'D3', 'D4', 'D5'] | INR 708.0 | Booked By : sri\n",
            "[ 1 ] 31/01/2022 04:54:02 : Minal Murali -> AUDI2 @ afternoon | ['A1', 'A2', 'A3', 'A4', 'A5', 'A6', 'A7', 'A8', 'A9'] | INR 2070.9 | Booked By : sri\n",
            "Select the appropriate ticket which is to be cancelled... 0\n",
            "You have selected 31/01/2022 04:52:17 : Minal Murali -> AUDI2 @ afternoon ( 4:25 PM ) | INR 708.0 | Booked By : sri\n",
            "  ['D1', 'D2', 'D3', 'D4', 'D5']\n",
            "  Type the ticket number / numbers which are to be cancelled... D1\n"
          ]
        }
      ]
    },
    {
      "cell_type": "code",
      "source": [
        ""
      ],
      "metadata": {
        "id": "x_x5oBxrZ6HK"
      },
      "execution_count": null,
      "outputs": []
    }
  ]
}